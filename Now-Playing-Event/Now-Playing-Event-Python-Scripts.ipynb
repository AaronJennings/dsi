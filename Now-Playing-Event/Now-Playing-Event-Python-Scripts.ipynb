{
 "cells": [
  {
   "cell_type": "markdown",
   "metadata": {},
   "source": [
    "## These are some beginner Python code snippets for the \"Now Playing\" event on April 12th"
   ]
  },
  {
   "cell_type": "markdown",
   "metadata": {},
   "source": [
    "#### Code for entering text"
   ]
  },
  {
   "cell_type": "code",
   "execution_count": null,
   "metadata": {
    "collapsed": false
   },
   "outputs": [],
   "source": [
    "name = input('What is your name?\\n')\n",
    "print ('Hi, %s.' % name)"
   ]
  },
  {
   "cell_type": "code",
   "execution_count": null,
   "metadata": {
    "collapsed": false
   },
   "outputs": [],
   "source": [
    "thetext = input(\"Enter some text \\n \")\n",
    "print (\"This is what you entered:\")\n",
    "print (thetext)"
   ]
  },
  {
   "cell_type": "code",
   "execution_count": null,
   "metadata": {
    "collapsed": false
   },
   "outputs": [],
   "source": [
    "prompt  = \"Enter a some text \"\n",
    "thetext = input(prompt)\n",
    "print (\"This is what you entered:\")\n",
    "print (thetext)"
   ]
  },
  {
   "cell_type": "markdown",
   "metadata": {},
   "source": [
    "#### Assigning Variables"
   ]
  },
  {
   "cell_type": "code",
   "execution_count": null,
   "metadata": {
    "collapsed": false
   },
   "outputs": [],
   "source": [
    "a = \"Hello out there\"\n",
    "print(a)\n",
    "b= \"Hello\"\n",
    "print (b)\n",
    "c = \"Where's the spam?\"\n",
    "print (c)\n",
    "d=\"x\"\n",
    "print(d)\n",
    "print(a,b,d,d)"
   ]
  },
  {
   "cell_type": "code",
   "execution_count": null,
   "metadata": {
    "collapsed": false
   },
   "outputs": [],
   "source": [
    "a = \"Hello out there\"\n",
    "b = 'Hello'\n",
    "print (a)\n",
    "print (b)"
   ]
  },
  {
   "cell_type": "code",
   "execution_count": null,
   "metadata": {
    "collapsed": false
   },
   "outputs": [],
   "source": [
    "a = 'Hello out there'\n",
    "b = \"Where's the spam?\"\n",
    "c = a + b\n",
    "print (c)"
   ]
  },
  {
   "cell_type": "markdown",
   "metadata": {},
   "source": [
    "#### Basic math operations"
   ]
  },
  {
   "cell_type": "code",
   "execution_count": null,
   "metadata": {
    "collapsed": false
   },
   "outputs": [],
   "source": [
    "total = 0.0\n",
    "number1=float(input(\"Enter the first number: \"))\n",
    "total = total + number1\n",
    "number2=float(input(\"Enter the second number: \"))\n",
    "total = total + number2\n",
    "number3=float(input(\"Enter the third number: \"))\n",
    "total = total + number3\n",
    "average = total / 3\n",
    "print (\"The average is \" + str(average))"
   ]
  },
  {
   "cell_type": "code",
   "execution_count": null,
   "metadata": {
    "collapsed": false
   },
   "outputs": [],
   "source": [
    "number = 1234.5678\n",
    "print (number)\n",
    "number = round(number,2)\n",
    "print (number)"
   ]
  },
  {
   "cell_type": "code",
   "execution_count": null,
   "metadata": {
    "collapsed": false
   },
   "outputs": [],
   "source": [
    "number = 1234.5678\n",
    "print (number)\n",
    "number_round = round(number,2)\n",
    "print (number_round)"
   ]
  },
  {
   "cell_type": "markdown",
   "metadata": {},
   "source": [
    "#### Logic "
   ]
  },
  {
   "cell_type": "code",
   "execution_count": null,
   "metadata": {
    "collapsed": false
   },
   "outputs": [],
   "source": [
    "x = 'spammy'\n",
    "if x == 'spam':\n",
    "    print ('Hi spam')\n",
    "else:\n",
    "    print ('not spam')"
   ]
  },
  {
   "cell_type": "code",
   "execution_count": null,
   "metadata": {
    "collapsed": false
   },
   "outputs": [],
   "source": [
    "if 1>3:\n",
    "    print (\"crazy math\")\n",
    "else:\n",
    "    print (\"normal math\")"
   ]
  },
  {
   "cell_type": "markdown",
   "metadata": {},
   "source": [
    "#### Basic Plotting"
   ]
  },
  {
   "cell_type": "code",
   "execution_count": null,
   "metadata": {
    "collapsed": false
   },
   "outputs": [],
   "source": [
    "% matplotlib inline\n",
    "import pylab as pl\n",
    "import numpy as np\n",
    "\n",
    "x = [1,2,3,4,5]\n",
    "y = [1,4,9,16,25]\n",
    "pl.plot(x,y, \"d\")\n",
    "\n",
    "pl.xlabel(\"X axis\")\n",
    "pl.ylabel(\"y axis\")\n",
    "pl.title(\"My cool chart\")\n",
    "\n",
    "pl.ylim(0,25)\n",
    "pl.xlim(0,5)"
   ]
  }
 ],
 "metadata": {
  "kernelspec": {
   "display_name": "Python 3",
   "language": "python",
   "name": "python3"
  },
  "language_info": {
   "codemirror_mode": {
    "name": "ipython",
    "version": 3
   },
   "file_extension": ".py",
   "mimetype": "text/x-python",
   "name": "python",
   "nbconvert_exporter": "python",
   "pygments_lexer": "ipython3",
   "version": "3.5.1"
  }
 },
 "nbformat": 4,
 "nbformat_minor": 0
}
