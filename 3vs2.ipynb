{
 "cells": [
  {
   "cell_type": "markdown",
   "metadata": {},
   "source": [
    "In this exercise, we will write a program to figure out who has the advantage in a dice game.\n",
    "\n",
    "One player, blue, gets to roll three blue colored dice. The other player, gold, gets to roll two gold colored dice.  \n",
    "\n",
    "We put blue's two best rolls up against gold's two rolls and score the outcome. If blue's highest roll is greater than gold's highest roll, blue gets one point.  Otherwise, gold gets a point. Same for the lower rolls - if blue's lowest roll is greater than gold's lowest roll, blue gets a point. Otherwise, gold gets a point.\n",
    "\n",
    "The blue player has an advantage - the option to roll three and discared the lowest score. However, the gold player has an advantage as well- if the values are equal, gold wins the tie.\n",
    "\n",
    "Who do you think is better off?  \n",
    "\n",
    "Try this with a few rolls on your own.  Then, simulate thousands of rolls with the python program below!\n",
    "\n",
    "Is the outcome what you expected?  How different do you think this would be from an analytical (non simulated) calculation?"
   ]
  },
  {
   "cell_type": "code",
   "execution_count": 56,
   "metadata": {
    "collapsed": false
   },
   "outputs": [
    {
     "name": "stdout",
     "output_type": "stream",
     "text": [
      "Blue Wins: 53.9324 % of the time\n"
     ]
    },
    {
     "data": {
      "image/png": "[encoded data removed]",
      "text/plain": [
       "<matplotlib.figure.Figure at 0x1105c8cf8>"
      ]
     },
     "metadata": {},
     "output_type": "display_data"
    }
   ],
   "source": [
    "from random import randint\n",
    "import numpy as np\n",
    "import matplotlib.pyplot as plt\n",
    "%matplotlib inline\n",
    "\n",
    "total_win_blue = 0\n",
    "total_win_gold = 0\n",
    "\n",
    "number_of_rolls = 1000000\n",
    "\n",
    "for i in range(number_of_rolls):\n",
    "    \n",
    "    # roll three blue dice\n",
    "    roll_blue = sorted([randint(1,6), randint(1,6), randint(1,6)])\n",
    "    \n",
    "    # roll two gold dice\n",
    "    roll_gold = sorted([randint(1,6), randint(1,6)])\n",
    "\n",
    "    # compare the higest blue value with the highest gold value\n",
    "    # if blue is greater, blue wins one.\n",
    "    if roll_blue[1] > roll_gold[0]:\n",
    "        total_win_blue += 1\n",
    "    # if gold is greater or equal, gold wins one\n",
    "    else:\n",
    "        total_win_gold += 1\n",
    "    # do the same for the second highest values   \n",
    "    if roll_blue[2] > roll_gold[1]:\n",
    "        total_win_blue += 1\n",
    "    else:\n",
    "        total_win_gold += 1\n",
    "        \n",
    "# what percentage of the total will blue win?\n",
    "print(\"Blue Wins:\", total_win_blue / (total_win_blue + total_win_gold) * 100, \"% of the time\")\n",
    "\n",
    "objects = ('total_win_blue', 'total_win_gold')\n",
    "y_pos = np.arange(len(objects))\n",
    "performance = [total_win_blue, total_win_gold]\n",
    "plt.barh(y_pos, performance, align='center', alpha=0.5)\n",
    "plt.yticks(y_pos, objects)\n",
    "plt.xlabel('Total Rolls Won')\n",
    "plt.title('Three vs Two')\n",
    " \n",
    "plt.show()"
   ]
  },
  {
   "cell_type": "code",
   "execution_count": null,
   "metadata": {
    "collapsed": true
   },
   "outputs": [],
   "source": []
  },
  {
   "cell_type": "code",
   "execution_count": null,
   "metadata": {
    "collapsed": true
   },
   "outputs": [],
   "source": []
  }
 ],
 "metadata": {
  "kernelspec": {
   "display_name": "Python 3",
   "language": "python",
   "name": "python3"
  },
  "language_info": {
   "codemirror_mode": {
    "name": "ipython",
    "version": 3
   },
   "file_extension": ".py",
   "mimetype": "text/x-python",
   "name": "python",
   "nbconvert_exporter": "python",
   "pygments_lexer": "ipython3",
   "version": "3.6.0"
  }
 },
 "nbformat": 4,
 "nbformat_minor": 2
}
