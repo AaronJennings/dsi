{
 "cells": [
  {
   "cell_type": "code",
   "execution_count": 1,
   "metadata": {
    "collapsed": true
   },
   "outputs": [],
   "source": [
    "import re, requests\n",
    "from bs4 import BeautifulSoup"
   ]
  },
  {
   "cell_type": "code",
   "execution_count": null,
   "metadata": {
    "collapsed": true
   },
   "outputs": [],
   "source": [
    "for ar in allresponse:\n",
    "    displayName_flag = 0\n",
    "    ucsfeduworkingtitle_flat = 0\n",
    "    for d in ar['data'][0]:\n",
    "        if d == 'displayName':\n",
    "            displayname.append(...)\n",
    "            displayName_flag = 1\n",
    "            \n",
    "        if...\n",
    "        \n",
    "    if displayName_flag == 0:\n",
    "        displayname.append(\"\")"
   ]
  }
 ],
 "metadata": {
  "kernelspec": {
   "display_name": "Python 3",
   "language": "python",
   "name": "python3"
  },
  "language_info": {
   "codemirror_mode": {
    "name": "ipython",
    "version": 3
   },
   "file_extension": ".py",
   "mimetype": "text/x-python",
   "name": "python",
   "nbconvert_exporter": "python",
   "pygments_lexer": "ipython3",
   "version": "3.5.4"
  }
 },
 "nbformat": 4,
 "nbformat_minor": 2
}
